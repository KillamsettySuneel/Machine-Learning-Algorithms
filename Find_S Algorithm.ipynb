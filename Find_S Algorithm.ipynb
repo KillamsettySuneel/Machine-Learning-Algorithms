{
 "cells": [
  {
   "cell_type": "code",
   "execution_count": 1,
   "id": "1d19c7d9",
   "metadata": {},
   "outputs": [
    {
     "name": "stdout",
     "output_type": "stream",
     "text": [
      "['Sky', 'AirTemp', 'Humidity', 'Wind', 'Water', 'Forecast', 'EnjoySport']\n",
      "['Sunny', 'Warm', 'Normal', 'Strong', 'Warm', 'Same', 'Yes']\n",
      "['Sunny', 'Warm', 'High', 'Strong', 'Warm', 'Same', 'Yes']\n",
      "['Rainy', 'Cold', 'High', 'Strong', 'Warm', 'Change', 'No']\n",
      "['Sunny', 'Warm', 'High', 'Strong', 'Cool', 'Change', 'Yes']\n",
      "Most Specific Hypothesis is: \n",
      "[['Sunny', 'Warm', '?', 'Strong', '?', '?']]\n"
     ]
    }
   ],
   "source": [
    "import csv\n",
    "with open('trainingData.csv','r') as f:\n",
    "    reader = csv.reader(f)\n",
    "    your_list = list(reader)\n",
    "h = [['0','0','0','0','0','0']]\n",
    "for i in your_list:\n",
    "    print(i)\n",
    "    if i[-1] == \"Yes\":\n",
    "        j = 0\n",
    "        for x in i:\n",
    "            if x != \"Yes\":\n",
    "                if x != h[0][j] and h[0][j] == '0':\n",
    "                    h[0][j] = x\n",
    "                elif x != h[0][j] and h[0][j] != '0':\n",
    "                    h[0][j] = '?'\n",
    "                else:\n",
    "                    pass\n",
    "            j = j + 1\n",
    "print(\"Most Specific Hypothesis is: \")\n",
    "print(h)           "
   ]
  },
  {
   "cell_type": "code",
   "execution_count": 2,
   "id": "b23a1c4b",
   "metadata": {},
   "outputs": [
    {
     "name": "stdout",
     "output_type": "stream",
     "text": [
      "['Sunny', 'Warm', 'Normal', 'Strong', 'Warm', 'Same', 'Yes']\n",
      "['Sunny', 'Warm', 'High', 'Strong', 'Warm', 'Same', 'Yes']\n",
      "['Rainy', 'Cold', 'High', 'Strong', 'Warm', 'Change', 'No']\n",
      "['Sunny', 'Warm', 'High', 'Strong', 'Cool', 'Change', 'Yes']\n",
      "Most Specific Hypothesis is:\n",
      "[['Sunny', 'Warm', '?', 'Strong', '?', '?']]\n"
     ]
    }
   ],
   "source": [
    "import csv\n",
    "with open('trainingData.csv','r') as df:\n",
    "    reader = csv.reader(df)\n",
    "    data = list(reader)\n",
    "h = [['0' for i in range(0,6)]]\n",
    "for i in range(1,len(data)):\n",
    "    print(data[i])\n",
    "    if data[i][-1] == \"Yes\":\n",
    "        for j in range(0,len(h[0])):\n",
    "            if data[i][j] != \"Yes\":\n",
    "                if data[i][j] != h[0][j] and h[0][j] == '0':\n",
    "                    h[0][j] = data[i][j]\n",
    "                elif data[i][j] != h[0][j] and h[0][j] != '0':\n",
    "                    h[0][j] = '?'\n",
    "                elif data[i][j] == h[0][j] and h[0][j] != '0':\n",
    "                    pass\n",
    "print(\"Most Specific Hypothesis is:\")\n",
    "print(h)         "
   ]
  },
  {
   "cell_type": "code",
   "execution_count": null,
   "id": "5483e353",
   "metadata": {},
   "outputs": [],
   "source": []
  }
 ],
 "metadata": {
  "kernelspec": {
   "display_name": "Python 3 (ipykernel)",
   "language": "python",
   "name": "python3"
  },
  "language_info": {
   "codemirror_mode": {
    "name": "ipython",
    "version": 3
   },
   "file_extension": ".py",
   "mimetype": "text/x-python",
   "name": "python",
   "nbconvert_exporter": "python",
   "pygments_lexer": "ipython3",
   "version": "3.10.9"
  }
 },
 "nbformat": 4,
 "nbformat_minor": 5
}
